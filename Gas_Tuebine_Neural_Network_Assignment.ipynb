{
 "cells": [
  {
   "cell_type": "markdown",
   "id": "c48bda90",
   "metadata": {},
   "source": [
    "# Import Necessary Libraries"
   ]
  },
  {
   "cell_type": "code",
   "execution_count": 23,
   "id": "5baf332c",
   "metadata": {},
   "outputs": [],
   "source": [
    "import pandas as pd\n",
    "import numpy as np\n",
    "from keras.models import Sequential\n",
    "from keras.layers import Dense,Flatten,Dropout\n",
    "from sklearn.preprocessing import StandardScaler\n",
    "from sklearn.model_selection import train_test_split\n",
    "from sklearn.metrics import accuracy_score,confusion_matrix\n",
    "import matplotlib.pyplot as plt\n",
    "import warnings\n",
    "warnings.filterwarnings('ignore')"
   ]
  },
  {
   "cell_type": "markdown",
   "id": "bcc3a848",
   "metadata": {},
   "source": [
    "# Import Data"
   ]
  },
  {
   "cell_type": "code",
   "execution_count": 2,
   "id": "366b5ec1",
   "metadata": {},
   "outputs": [
    {
     "data": {
      "text/html": [
       "<div>\n",
       "<style scoped>\n",
       "    .dataframe tbody tr th:only-of-type {\n",
       "        vertical-align: middle;\n",
       "    }\n",
       "\n",
       "    .dataframe tbody tr th {\n",
       "        vertical-align: top;\n",
       "    }\n",
       "\n",
       "    .dataframe thead th {\n",
       "        text-align: right;\n",
       "    }\n",
       "</style>\n",
       "<table border=\"1\" class=\"dataframe\">\n",
       "  <thead>\n",
       "    <tr style=\"text-align: right;\">\n",
       "      <th></th>\n",
       "      <th>AT</th>\n",
       "      <th>AP</th>\n",
       "      <th>AH</th>\n",
       "      <th>AFDP</th>\n",
       "      <th>GTEP</th>\n",
       "      <th>TIT</th>\n",
       "      <th>TAT</th>\n",
       "      <th>TEY</th>\n",
       "      <th>CDP</th>\n",
       "      <th>CO</th>\n",
       "      <th>NOX</th>\n",
       "    </tr>\n",
       "  </thead>\n",
       "  <tbody>\n",
       "    <tr>\n",
       "      <th>0</th>\n",
       "      <td>6.8594</td>\n",
       "      <td>1007.9</td>\n",
       "      <td>96.799</td>\n",
       "      <td>3.5000</td>\n",
       "      <td>19.663</td>\n",
       "      <td>1059.2</td>\n",
       "      <td>550.00</td>\n",
       "      <td>114.70</td>\n",
       "      <td>10.605</td>\n",
       "      <td>3.1547</td>\n",
       "      <td>82.722</td>\n",
       "    </tr>\n",
       "    <tr>\n",
       "      <th>1</th>\n",
       "      <td>6.7850</td>\n",
       "      <td>1008.4</td>\n",
       "      <td>97.118</td>\n",
       "      <td>3.4998</td>\n",
       "      <td>19.728</td>\n",
       "      <td>1059.3</td>\n",
       "      <td>550.00</td>\n",
       "      <td>114.72</td>\n",
       "      <td>10.598</td>\n",
       "      <td>3.2363</td>\n",
       "      <td>82.776</td>\n",
       "    </tr>\n",
       "    <tr>\n",
       "      <th>2</th>\n",
       "      <td>6.8977</td>\n",
       "      <td>1008.8</td>\n",
       "      <td>95.939</td>\n",
       "      <td>3.4824</td>\n",
       "      <td>19.779</td>\n",
       "      <td>1059.4</td>\n",
       "      <td>549.87</td>\n",
       "      <td>114.71</td>\n",
       "      <td>10.601</td>\n",
       "      <td>3.2012</td>\n",
       "      <td>82.468</td>\n",
       "    </tr>\n",
       "    <tr>\n",
       "      <th>3</th>\n",
       "      <td>7.0569</td>\n",
       "      <td>1009.2</td>\n",
       "      <td>95.249</td>\n",
       "      <td>3.4805</td>\n",
       "      <td>19.792</td>\n",
       "      <td>1059.6</td>\n",
       "      <td>549.99</td>\n",
       "      <td>114.72</td>\n",
       "      <td>10.606</td>\n",
       "      <td>3.1923</td>\n",
       "      <td>82.670</td>\n",
       "    </tr>\n",
       "    <tr>\n",
       "      <th>4</th>\n",
       "      <td>7.3978</td>\n",
       "      <td>1009.7</td>\n",
       "      <td>95.150</td>\n",
       "      <td>3.4976</td>\n",
       "      <td>19.765</td>\n",
       "      <td>1059.7</td>\n",
       "      <td>549.98</td>\n",
       "      <td>114.72</td>\n",
       "      <td>10.612</td>\n",
       "      <td>3.2484</td>\n",
       "      <td>82.311</td>\n",
       "    </tr>\n",
       "    <tr>\n",
       "      <th>...</th>\n",
       "      <td>...</td>\n",
       "      <td>...</td>\n",
       "      <td>...</td>\n",
       "      <td>...</td>\n",
       "      <td>...</td>\n",
       "      <td>...</td>\n",
       "      <td>...</td>\n",
       "      <td>...</td>\n",
       "      <td>...</td>\n",
       "      <td>...</td>\n",
       "      <td>...</td>\n",
       "    </tr>\n",
       "    <tr>\n",
       "      <th>15034</th>\n",
       "      <td>9.0301</td>\n",
       "      <td>1005.6</td>\n",
       "      <td>98.460</td>\n",
       "      <td>3.5421</td>\n",
       "      <td>19.164</td>\n",
       "      <td>1049.7</td>\n",
       "      <td>546.21</td>\n",
       "      <td>111.61</td>\n",
       "      <td>10.400</td>\n",
       "      <td>4.5186</td>\n",
       "      <td>79.559</td>\n",
       "    </tr>\n",
       "    <tr>\n",
       "      <th>15035</th>\n",
       "      <td>7.8879</td>\n",
       "      <td>1005.9</td>\n",
       "      <td>99.093</td>\n",
       "      <td>3.5059</td>\n",
       "      <td>19.414</td>\n",
       "      <td>1046.3</td>\n",
       "      <td>543.22</td>\n",
       "      <td>111.78</td>\n",
       "      <td>10.433</td>\n",
       "      <td>4.8470</td>\n",
       "      <td>79.917</td>\n",
       "    </tr>\n",
       "    <tr>\n",
       "      <th>15036</th>\n",
       "      <td>7.2647</td>\n",
       "      <td>1006.3</td>\n",
       "      <td>99.496</td>\n",
       "      <td>3.4770</td>\n",
       "      <td>19.530</td>\n",
       "      <td>1037.7</td>\n",
       "      <td>537.32</td>\n",
       "      <td>110.19</td>\n",
       "      <td>10.483</td>\n",
       "      <td>7.9632</td>\n",
       "      <td>90.912</td>\n",
       "    </tr>\n",
       "    <tr>\n",
       "      <th>15037</th>\n",
       "      <td>7.0060</td>\n",
       "      <td>1006.8</td>\n",
       "      <td>99.008</td>\n",
       "      <td>3.4486</td>\n",
       "      <td>19.377</td>\n",
       "      <td>1043.2</td>\n",
       "      <td>541.24</td>\n",
       "      <td>110.74</td>\n",
       "      <td>10.533</td>\n",
       "      <td>6.2494</td>\n",
       "      <td>93.227</td>\n",
       "    </tr>\n",
       "    <tr>\n",
       "      <th>15038</th>\n",
       "      <td>6.9279</td>\n",
       "      <td>1007.2</td>\n",
       "      <td>97.533</td>\n",
       "      <td>3.4275</td>\n",
       "      <td>19.306</td>\n",
       "      <td>1049.9</td>\n",
       "      <td>545.85</td>\n",
       "      <td>111.58</td>\n",
       "      <td>10.583</td>\n",
       "      <td>4.9816</td>\n",
       "      <td>92.498</td>\n",
       "    </tr>\n",
       "  </tbody>\n",
       "</table>\n",
       "<p>15039 rows × 11 columns</p>\n",
       "</div>"
      ],
      "text/plain": [
       "           AT      AP      AH    AFDP    GTEP     TIT     TAT     TEY     CDP  \\\n",
       "0      6.8594  1007.9  96.799  3.5000  19.663  1059.2  550.00  114.70  10.605   \n",
       "1      6.7850  1008.4  97.118  3.4998  19.728  1059.3  550.00  114.72  10.598   \n",
       "2      6.8977  1008.8  95.939  3.4824  19.779  1059.4  549.87  114.71  10.601   \n",
       "3      7.0569  1009.2  95.249  3.4805  19.792  1059.6  549.99  114.72  10.606   \n",
       "4      7.3978  1009.7  95.150  3.4976  19.765  1059.7  549.98  114.72  10.612   \n",
       "...       ...     ...     ...     ...     ...     ...     ...     ...     ...   \n",
       "15034  9.0301  1005.6  98.460  3.5421  19.164  1049.7  546.21  111.61  10.400   \n",
       "15035  7.8879  1005.9  99.093  3.5059  19.414  1046.3  543.22  111.78  10.433   \n",
       "15036  7.2647  1006.3  99.496  3.4770  19.530  1037.7  537.32  110.19  10.483   \n",
       "15037  7.0060  1006.8  99.008  3.4486  19.377  1043.2  541.24  110.74  10.533   \n",
       "15038  6.9279  1007.2  97.533  3.4275  19.306  1049.9  545.85  111.58  10.583   \n",
       "\n",
       "           CO     NOX  \n",
       "0      3.1547  82.722  \n",
       "1      3.2363  82.776  \n",
       "2      3.2012  82.468  \n",
       "3      3.1923  82.670  \n",
       "4      3.2484  82.311  \n",
       "...       ...     ...  \n",
       "15034  4.5186  79.559  \n",
       "15035  4.8470  79.917  \n",
       "15036  7.9632  90.912  \n",
       "15037  6.2494  93.227  \n",
       "15038  4.9816  92.498  \n",
       "\n",
       "[15039 rows x 11 columns]"
      ]
     },
     "execution_count": 2,
     "metadata": {},
     "output_type": "execute_result"
    }
   ],
   "source": [
    "gas_turbine_data = pd.read_csv('gas_turbines.csv')\n",
    "gas_turbine_data"
   ]
  },
  {
   "cell_type": "markdown",
   "id": "ec7dd010",
   "metadata": {},
   "source": [
    "# Data Understanding"
   ]
  },
  {
   "cell_type": "code",
   "execution_count": 3,
   "id": "7426c833",
   "metadata": {},
   "outputs": [
    {
     "data": {
      "text/plain": [
       "(15039, 11)"
      ]
     },
     "execution_count": 3,
     "metadata": {},
     "output_type": "execute_result"
    }
   ],
   "source": [
    "gas_turbine_data.shape"
   ]
  },
  {
   "cell_type": "code",
   "execution_count": 4,
   "id": "76948bf6",
   "metadata": {},
   "outputs": [
    {
     "data": {
      "text/plain": [
       "AT      0\n",
       "AP      0\n",
       "AH      0\n",
       "AFDP    0\n",
       "GTEP    0\n",
       "TIT     0\n",
       "TAT     0\n",
       "TEY     0\n",
       "CDP     0\n",
       "CO      0\n",
       "NOX     0\n",
       "dtype: int64"
      ]
     },
     "execution_count": 4,
     "metadata": {},
     "output_type": "execute_result"
    }
   ],
   "source": [
    "gas_turbine_data.isna().sum()"
   ]
  },
  {
   "cell_type": "code",
   "execution_count": 5,
   "id": "a43573c7",
   "metadata": {},
   "outputs": [
    {
     "data": {
      "text/html": [
       "<div>\n",
       "<style scoped>\n",
       "    .dataframe tbody tr th:only-of-type {\n",
       "        vertical-align: middle;\n",
       "    }\n",
       "\n",
       "    .dataframe tbody tr th {\n",
       "        vertical-align: top;\n",
       "    }\n",
       "\n",
       "    .dataframe thead th {\n",
       "        text-align: right;\n",
       "    }\n",
       "</style>\n",
       "<table border=\"1\" class=\"dataframe\">\n",
       "  <thead>\n",
       "    <tr style=\"text-align: right;\">\n",
       "      <th></th>\n",
       "      <th>AT</th>\n",
       "      <th>AP</th>\n",
       "      <th>AH</th>\n",
       "      <th>AFDP</th>\n",
       "      <th>GTEP</th>\n",
       "      <th>TIT</th>\n",
       "      <th>TAT</th>\n",
       "      <th>TEY</th>\n",
       "      <th>CDP</th>\n",
       "      <th>CO</th>\n",
       "      <th>NOX</th>\n",
       "    </tr>\n",
       "  </thead>\n",
       "  <tbody>\n",
       "    <tr>\n",
       "      <th>count</th>\n",
       "      <td>15039.000000</td>\n",
       "      <td>15039.00000</td>\n",
       "      <td>15039.000000</td>\n",
       "      <td>15039.000000</td>\n",
       "      <td>15039.000000</td>\n",
       "      <td>15039.000000</td>\n",
       "      <td>15039.000000</td>\n",
       "      <td>15039.000000</td>\n",
       "      <td>15039.000000</td>\n",
       "      <td>15039.000000</td>\n",
       "      <td>15039.000000</td>\n",
       "    </tr>\n",
       "    <tr>\n",
       "      <th>mean</th>\n",
       "      <td>17.764381</td>\n",
       "      <td>1013.19924</td>\n",
       "      <td>79.124174</td>\n",
       "      <td>4.200294</td>\n",
       "      <td>25.419061</td>\n",
       "      <td>1083.798770</td>\n",
       "      <td>545.396183</td>\n",
       "      <td>134.188464</td>\n",
       "      <td>12.102353</td>\n",
       "      <td>1.972499</td>\n",
       "      <td>68.190934</td>\n",
       "    </tr>\n",
       "    <tr>\n",
       "      <th>std</th>\n",
       "      <td>7.574323</td>\n",
       "      <td>6.41076</td>\n",
       "      <td>13.793439</td>\n",
       "      <td>0.760197</td>\n",
       "      <td>4.173916</td>\n",
       "      <td>16.527806</td>\n",
       "      <td>7.866803</td>\n",
       "      <td>15.829717</td>\n",
       "      <td>1.103196</td>\n",
       "      <td>2.222206</td>\n",
       "      <td>10.470586</td>\n",
       "    </tr>\n",
       "    <tr>\n",
       "      <th>min</th>\n",
       "      <td>0.522300</td>\n",
       "      <td>985.85000</td>\n",
       "      <td>30.344000</td>\n",
       "      <td>2.087400</td>\n",
       "      <td>17.878000</td>\n",
       "      <td>1000.800000</td>\n",
       "      <td>512.450000</td>\n",
       "      <td>100.170000</td>\n",
       "      <td>9.904400</td>\n",
       "      <td>0.000388</td>\n",
       "      <td>27.765000</td>\n",
       "    </tr>\n",
       "    <tr>\n",
       "      <th>25%</th>\n",
       "      <td>11.408000</td>\n",
       "      <td>1008.90000</td>\n",
       "      <td>69.750000</td>\n",
       "      <td>3.723900</td>\n",
       "      <td>23.294000</td>\n",
       "      <td>1079.600000</td>\n",
       "      <td>542.170000</td>\n",
       "      <td>127.985000</td>\n",
       "      <td>11.622000</td>\n",
       "      <td>0.858055</td>\n",
       "      <td>61.303500</td>\n",
       "    </tr>\n",
       "    <tr>\n",
       "      <th>50%</th>\n",
       "      <td>18.186000</td>\n",
       "      <td>1012.80000</td>\n",
       "      <td>82.266000</td>\n",
       "      <td>4.186200</td>\n",
       "      <td>25.082000</td>\n",
       "      <td>1088.700000</td>\n",
       "      <td>549.890000</td>\n",
       "      <td>133.780000</td>\n",
       "      <td>12.025000</td>\n",
       "      <td>1.390200</td>\n",
       "      <td>66.601000</td>\n",
       "    </tr>\n",
       "    <tr>\n",
       "      <th>75%</th>\n",
       "      <td>23.862500</td>\n",
       "      <td>1016.90000</td>\n",
       "      <td>90.043500</td>\n",
       "      <td>4.550900</td>\n",
       "      <td>27.184000</td>\n",
       "      <td>1096.000000</td>\n",
       "      <td>550.060000</td>\n",
       "      <td>140.895000</td>\n",
       "      <td>12.578000</td>\n",
       "      <td>2.160400</td>\n",
       "      <td>73.935500</td>\n",
       "    </tr>\n",
       "    <tr>\n",
       "      <th>max</th>\n",
       "      <td>34.929000</td>\n",
       "      <td>1034.20000</td>\n",
       "      <td>100.200000</td>\n",
       "      <td>7.610600</td>\n",
       "      <td>37.402000</td>\n",
       "      <td>1100.800000</td>\n",
       "      <td>550.610000</td>\n",
       "      <td>174.610000</td>\n",
       "      <td>15.081000</td>\n",
       "      <td>44.103000</td>\n",
       "      <td>119.890000</td>\n",
       "    </tr>\n",
       "  </tbody>\n",
       "</table>\n",
       "</div>"
      ],
      "text/plain": [
       "                 AT           AP            AH          AFDP          GTEP  \\\n",
       "count  15039.000000  15039.00000  15039.000000  15039.000000  15039.000000   \n",
       "mean      17.764381   1013.19924     79.124174      4.200294     25.419061   \n",
       "std        7.574323      6.41076     13.793439      0.760197      4.173916   \n",
       "min        0.522300    985.85000     30.344000      2.087400     17.878000   \n",
       "25%       11.408000   1008.90000     69.750000      3.723900     23.294000   \n",
       "50%       18.186000   1012.80000     82.266000      4.186200     25.082000   \n",
       "75%       23.862500   1016.90000     90.043500      4.550900     27.184000   \n",
       "max       34.929000   1034.20000    100.200000      7.610600     37.402000   \n",
       "\n",
       "                TIT           TAT           TEY           CDP            CO  \\\n",
       "count  15039.000000  15039.000000  15039.000000  15039.000000  15039.000000   \n",
       "mean    1083.798770    545.396183    134.188464     12.102353      1.972499   \n",
       "std       16.527806      7.866803     15.829717      1.103196      2.222206   \n",
       "min     1000.800000    512.450000    100.170000      9.904400      0.000388   \n",
       "25%     1079.600000    542.170000    127.985000     11.622000      0.858055   \n",
       "50%     1088.700000    549.890000    133.780000     12.025000      1.390200   \n",
       "75%     1096.000000    550.060000    140.895000     12.578000      2.160400   \n",
       "max     1100.800000    550.610000    174.610000     15.081000     44.103000   \n",
       "\n",
       "                NOX  \n",
       "count  15039.000000  \n",
       "mean      68.190934  \n",
       "std       10.470586  \n",
       "min       27.765000  \n",
       "25%       61.303500  \n",
       "50%       66.601000  \n",
       "75%       73.935500  \n",
       "max      119.890000  "
      ]
     },
     "execution_count": 5,
     "metadata": {},
     "output_type": "execute_result"
    }
   ],
   "source": [
    "gas_turbine_data.describe()"
   ]
  },
  {
   "cell_type": "code",
   "execution_count": 6,
   "id": "08d96621",
   "metadata": {},
   "outputs": [
    {
     "data": {
      "text/plain": [
       "AT      float64\n",
       "AP      float64\n",
       "AH      float64\n",
       "AFDP    float64\n",
       "GTEP    float64\n",
       "TIT     float64\n",
       "TAT     float64\n",
       "TEY     float64\n",
       "CDP     float64\n",
       "CO      float64\n",
       "NOX     float64\n",
       "dtype: object"
      ]
     },
     "execution_count": 6,
     "metadata": {},
     "output_type": "execute_result"
    }
   ],
   "source": [
    "gas_turbine_data.dtypes"
   ]
  },
  {
   "cell_type": "markdown",
   "id": "3ebd0e62",
   "metadata": {},
   "source": [
    "## As per problem statement we need input variable which are ambient and outputTurbine Energy yield\n",
    "#### Input \n",
    "* Ambient Temp (AT)\n",
    "* Ambient pressure (AP)\n",
    "* Ambient humidity (AH)\n",
    "\n",
    "#### Output\n",
    "* Turbine energy yeild"
   ]
  },
  {
   "cell_type": "markdown",
   "id": "3a6f5fba",
   "metadata": {},
   "source": [
    "# Data Preprocessing"
   ]
  },
  {
   "cell_type": "code",
   "execution_count": 7,
   "id": "47e1fa57",
   "metadata": {},
   "outputs": [],
   "source": [
    "X = gas_turbine_data[['AT','AP','AH']]\n",
    "y = gas_turbine_data[['TEY']]"
   ]
  },
  {
   "cell_type": "code",
   "execution_count": 8,
   "id": "39f69567",
   "metadata": {},
   "outputs": [
    {
     "data": {
      "text/html": [
       "<div>\n",
       "<style scoped>\n",
       "    .dataframe tbody tr th:only-of-type {\n",
       "        vertical-align: middle;\n",
       "    }\n",
       "\n",
       "    .dataframe tbody tr th {\n",
       "        vertical-align: top;\n",
       "    }\n",
       "\n",
       "    .dataframe thead th {\n",
       "        text-align: right;\n",
       "    }\n",
       "</style>\n",
       "<table border=\"1\" class=\"dataframe\">\n",
       "  <thead>\n",
       "    <tr style=\"text-align: right;\">\n",
       "      <th></th>\n",
       "      <th>AT</th>\n",
       "      <th>AP</th>\n",
       "      <th>AH</th>\n",
       "    </tr>\n",
       "  </thead>\n",
       "  <tbody>\n",
       "    <tr>\n",
       "      <th>0</th>\n",
       "      <td>6.8594</td>\n",
       "      <td>1007.9</td>\n",
       "      <td>96.799</td>\n",
       "    </tr>\n",
       "    <tr>\n",
       "      <th>1</th>\n",
       "      <td>6.7850</td>\n",
       "      <td>1008.4</td>\n",
       "      <td>97.118</td>\n",
       "    </tr>\n",
       "    <tr>\n",
       "      <th>2</th>\n",
       "      <td>6.8977</td>\n",
       "      <td>1008.8</td>\n",
       "      <td>95.939</td>\n",
       "    </tr>\n",
       "    <tr>\n",
       "      <th>3</th>\n",
       "      <td>7.0569</td>\n",
       "      <td>1009.2</td>\n",
       "      <td>95.249</td>\n",
       "    </tr>\n",
       "    <tr>\n",
       "      <th>4</th>\n",
       "      <td>7.3978</td>\n",
       "      <td>1009.7</td>\n",
       "      <td>95.150</td>\n",
       "    </tr>\n",
       "    <tr>\n",
       "      <th>...</th>\n",
       "      <td>...</td>\n",
       "      <td>...</td>\n",
       "      <td>...</td>\n",
       "    </tr>\n",
       "    <tr>\n",
       "      <th>15034</th>\n",
       "      <td>9.0301</td>\n",
       "      <td>1005.6</td>\n",
       "      <td>98.460</td>\n",
       "    </tr>\n",
       "    <tr>\n",
       "      <th>15035</th>\n",
       "      <td>7.8879</td>\n",
       "      <td>1005.9</td>\n",
       "      <td>99.093</td>\n",
       "    </tr>\n",
       "    <tr>\n",
       "      <th>15036</th>\n",
       "      <td>7.2647</td>\n",
       "      <td>1006.3</td>\n",
       "      <td>99.496</td>\n",
       "    </tr>\n",
       "    <tr>\n",
       "      <th>15037</th>\n",
       "      <td>7.0060</td>\n",
       "      <td>1006.8</td>\n",
       "      <td>99.008</td>\n",
       "    </tr>\n",
       "    <tr>\n",
       "      <th>15038</th>\n",
       "      <td>6.9279</td>\n",
       "      <td>1007.2</td>\n",
       "      <td>97.533</td>\n",
       "    </tr>\n",
       "  </tbody>\n",
       "</table>\n",
       "<p>15039 rows × 3 columns</p>\n",
       "</div>"
      ],
      "text/plain": [
       "           AT      AP      AH\n",
       "0      6.8594  1007.9  96.799\n",
       "1      6.7850  1008.4  97.118\n",
       "2      6.8977  1008.8  95.939\n",
       "3      7.0569  1009.2  95.249\n",
       "4      7.3978  1009.7  95.150\n",
       "...       ...     ...     ...\n",
       "15034  9.0301  1005.6  98.460\n",
       "15035  7.8879  1005.9  99.093\n",
       "15036  7.2647  1006.3  99.496\n",
       "15037  7.0060  1006.8  99.008\n",
       "15038  6.9279  1007.2  97.533\n",
       "\n",
       "[15039 rows x 3 columns]"
      ]
     },
     "execution_count": 8,
     "metadata": {},
     "output_type": "execute_result"
    }
   ],
   "source": [
    "X"
   ]
  },
  {
   "cell_type": "code",
   "execution_count": 9,
   "id": "a422e0ad",
   "metadata": {},
   "outputs": [
    {
     "data": {
      "text/html": [
       "<div>\n",
       "<style scoped>\n",
       "    .dataframe tbody tr th:only-of-type {\n",
       "        vertical-align: middle;\n",
       "    }\n",
       "\n",
       "    .dataframe tbody tr th {\n",
       "        vertical-align: top;\n",
       "    }\n",
       "\n",
       "    .dataframe thead th {\n",
       "        text-align: right;\n",
       "    }\n",
       "</style>\n",
       "<table border=\"1\" class=\"dataframe\">\n",
       "  <thead>\n",
       "    <tr style=\"text-align: right;\">\n",
       "      <th></th>\n",
       "      <th>TEY</th>\n",
       "    </tr>\n",
       "  </thead>\n",
       "  <tbody>\n",
       "    <tr>\n",
       "      <th>0</th>\n",
       "      <td>114.70</td>\n",
       "    </tr>\n",
       "    <tr>\n",
       "      <th>1</th>\n",
       "      <td>114.72</td>\n",
       "    </tr>\n",
       "    <tr>\n",
       "      <th>2</th>\n",
       "      <td>114.71</td>\n",
       "    </tr>\n",
       "    <tr>\n",
       "      <th>3</th>\n",
       "      <td>114.72</td>\n",
       "    </tr>\n",
       "    <tr>\n",
       "      <th>4</th>\n",
       "      <td>114.72</td>\n",
       "    </tr>\n",
       "    <tr>\n",
       "      <th>...</th>\n",
       "      <td>...</td>\n",
       "    </tr>\n",
       "    <tr>\n",
       "      <th>15034</th>\n",
       "      <td>111.61</td>\n",
       "    </tr>\n",
       "    <tr>\n",
       "      <th>15035</th>\n",
       "      <td>111.78</td>\n",
       "    </tr>\n",
       "    <tr>\n",
       "      <th>15036</th>\n",
       "      <td>110.19</td>\n",
       "    </tr>\n",
       "    <tr>\n",
       "      <th>15037</th>\n",
       "      <td>110.74</td>\n",
       "    </tr>\n",
       "    <tr>\n",
       "      <th>15038</th>\n",
       "      <td>111.58</td>\n",
       "    </tr>\n",
       "  </tbody>\n",
       "</table>\n",
       "<p>15039 rows × 1 columns</p>\n",
       "</div>"
      ],
      "text/plain": [
       "          TEY\n",
       "0      114.70\n",
       "1      114.72\n",
       "2      114.71\n",
       "3      114.72\n",
       "4      114.72\n",
       "...       ...\n",
       "15034  111.61\n",
       "15035  111.78\n",
       "15036  110.19\n",
       "15037  110.74\n",
       "15038  111.58\n",
       "\n",
       "[15039 rows x 1 columns]"
      ]
     },
     "execution_count": 9,
     "metadata": {},
     "output_type": "execute_result"
    }
   ],
   "source": [
    "y"
   ]
  },
  {
   "cell_type": "markdown",
   "id": "b999b6df",
   "metadata": {},
   "source": [
    "# Model Building"
   ]
  },
  {
   "cell_type": "markdown",
   "id": "4965ad81",
   "metadata": {},
   "source": [
    "### Build The Architecture"
   ]
  },
  {
   "cell_type": "code",
   "execution_count": 11,
   "id": "460430f3",
   "metadata": {},
   "outputs": [],
   "source": [
    "X_train,X_test,y_train,y_test = train_test_split(X,y,random_state=15,test_size=0.20)"
   ]
  },
  {
   "cell_type": "code",
   "execution_count": 12,
   "id": "7ff3f651",
   "metadata": {},
   "outputs": [
    {
     "data": {
      "text/plain": [
       "((12031, 3), (3008, 3), (12031, 1), (3008, 1))"
      ]
     },
     "execution_count": 12,
     "metadata": {},
     "output_type": "execute_result"
    }
   ],
   "source": [
    "X_train.shape,X_test.shape,y_train.shape,y_test.shape"
   ]
  },
  {
   "cell_type": "markdown",
   "id": "0a1cf7dc",
   "metadata": {},
   "source": [
    "Since it is a regression problem the activation function here we use is linear activation function that is we dont have to pass any activation function while forming the architecture."
   ]
  },
  {
   "cell_type": "code",
   "execution_count": 13,
   "id": "aaea6324",
   "metadata": {},
   "outputs": [],
   "source": [
    "model = Sequential()\n",
    "model.add(Dense(units=200))\n",
    "model.add(Dense(units=100))\n",
    "model.add(Dense(units=1))"
   ]
  },
  {
   "cell_type": "markdown",
   "id": "b4e155b9",
   "metadata": {},
   "source": [
    "### Model Compiling"
   ]
  },
  {
   "cell_type": "code",
   "execution_count": 14,
   "id": "e4fc6c69",
   "metadata": {},
   "outputs": [],
   "source": [
    "model.compile(optimizer='Adam',loss='mean_squared_error',metrics='mean_squared_error')"
   ]
  },
  {
   "cell_type": "markdown",
   "id": "94d7f9fe",
   "metadata": {},
   "source": [
    "# Model Training "
   ]
  },
  {
   "cell_type": "code",
   "execution_count": 15,
   "id": "535849a8",
   "metadata": {},
   "outputs": [
    {
     "name": "stdout",
     "output_type": "stream",
     "text": [
      "Epoch 1/10\n",
      "376/376 [==============================] - 2s 3ms/step - loss: 1515.8336 - mean_squared_error: 1515.8336 - val_loss: 303.8559 - val_mean_squared_error: 303.8559\n",
      "Epoch 2/10\n",
      "376/376 [==============================] - 1s 2ms/step - loss: 284.8597 - mean_squared_error: 284.8597 - val_loss: 272.3181 - val_mean_squared_error: 272.3181\n",
      "Epoch 3/10\n",
      "376/376 [==============================] - 1s 2ms/step - loss: 285.5310 - mean_squared_error: 285.5310 - val_loss: 225.2190 - val_mean_squared_error: 225.2190\n",
      "Epoch 4/10\n",
      "376/376 [==============================] - 1s 3ms/step - loss: 280.8521 - mean_squared_error: 280.8521 - val_loss: 283.0030 - val_mean_squared_error: 283.0030\n",
      "Epoch 5/10\n",
      "376/376 [==============================] - 1s 2ms/step - loss: 302.7674 - mean_squared_error: 302.7674 - val_loss: 253.9498 - val_mean_squared_error: 253.9498\n",
      "Epoch 6/10\n",
      "376/376 [==============================] - 1s 2ms/step - loss: 301.5623 - mean_squared_error: 301.5623 - val_loss: 225.1459 - val_mean_squared_error: 225.1459\n",
      "Epoch 7/10\n",
      "376/376 [==============================] - 1s 2ms/step - loss: 301.8614 - mean_squared_error: 301.8614 - val_loss: 266.0245 - val_mean_squared_error: 266.0245\n",
      "Epoch 8/10\n",
      "376/376 [==============================] - 1s 3ms/step - loss: 302.5729 - mean_squared_error: 302.5729 - val_loss: 221.5569 - val_mean_squared_error: 221.5569\n",
      "Epoch 9/10\n",
      "376/376 [==============================] - 1s 3ms/step - loss: 286.1271 - mean_squared_error: 286.1271 - val_loss: 280.4080 - val_mean_squared_error: 280.4080\n",
      "Epoch 10/10\n",
      "376/376 [==============================] - 1s 2ms/step - loss: 279.3444 - mean_squared_error: 279.3444 - val_loss: 242.5384 - val_mean_squared_error: 242.5384\n"
     ]
    },
    {
     "data": {
      "text/plain": [
       "<keras.callbacks.History at 0x14d0a49ab50>"
      ]
     },
     "execution_count": 15,
     "metadata": {},
     "output_type": "execute_result"
    }
   ],
   "source": [
    "model_training = model.fit(x=X_train,y=y_train,batch_size=None,epochs=10,validation_data=(X_test,y_test))\n",
    "model_training"
   ]
  },
  {
   "cell_type": "markdown",
   "id": "2f21be7a",
   "metadata": {},
   "source": [
    "# Model Prediction"
   ]
  },
  {
   "cell_type": "code",
   "execution_count": 16,
   "id": "637ec8aa",
   "metadata": {},
   "outputs": [
    {
     "name": "stdout",
     "output_type": "stream",
     "text": [
      "94/94 [==============================] - 0s 2ms/step\n"
     ]
    },
    {
     "data": {
      "text/plain": [
       "array([124.69781, 131.46371, 129.30162, ..., 130.12395, 131.74193,\n",
       "       134.20259], dtype=float32)"
      ]
     },
     "execution_count": 16,
     "metadata": {},
     "output_type": "execute_result"
    }
   ],
   "source": [
    "y_pred = model.predict(X_test).flatten()\n",
    "y_pred"
   ]
  },
  {
   "cell_type": "markdown",
   "id": "7b974892",
   "metadata": {},
   "source": [
    "# Model Evaluation"
   ]
  },
  {
   "cell_type": "code",
   "execution_count": 18,
   "id": "bd952004",
   "metadata": {},
   "outputs": [
    {
     "name": "stdout",
     "output_type": "stream",
     "text": [
      "94/94 [==============================] - 0s 2ms/step - loss: 242.5384 - mean_squared_error: 242.5384\n",
      "Model Loss          : 242.5384\n",
      "Mean Squared Error  : 242.5384\n"
     ]
    }
   ],
   "source": [
    "model_results = model.evaluate(x=X_test,y=y_test)\n",
    "print('Model Loss          :',round(model_results[0],4))\n",
    "print('Mean Squared Error  :',round(model_results[1],4))\n"
   ]
  },
  {
   "cell_type": "code",
   "execution_count": 19,
   "id": "33827fe2",
   "metadata": {},
   "outputs": [
    {
     "data": {
      "text/html": [
       "<div>\n",
       "<style scoped>\n",
       "    .dataframe tbody tr th:only-of-type {\n",
       "        vertical-align: middle;\n",
       "    }\n",
       "\n",
       "    .dataframe tbody tr th {\n",
       "        vertical-align: top;\n",
       "    }\n",
       "\n",
       "    .dataframe thead th {\n",
       "        text-align: right;\n",
       "    }\n",
       "</style>\n",
       "<table border=\"1\" class=\"dataframe\">\n",
       "  <thead>\n",
       "    <tr style=\"text-align: right;\">\n",
       "      <th></th>\n",
       "      <th>Actual Output</th>\n",
       "      <th>Predicted Output</th>\n",
       "    </tr>\n",
       "  </thead>\n",
       "  <tbody>\n",
       "    <tr>\n",
       "      <th>0</th>\n",
       "      <td>108.81</td>\n",
       "      <td>124.697807</td>\n",
       "    </tr>\n",
       "    <tr>\n",
       "      <th>1</th>\n",
       "      <td>159.21</td>\n",
       "      <td>131.463715</td>\n",
       "    </tr>\n",
       "    <tr>\n",
       "      <th>2</th>\n",
       "      <td>110.79</td>\n",
       "      <td>129.301620</td>\n",
       "    </tr>\n",
       "    <tr>\n",
       "      <th>3</th>\n",
       "      <td>109.12</td>\n",
       "      <td>124.895790</td>\n",
       "    </tr>\n",
       "    <tr>\n",
       "      <th>4</th>\n",
       "      <td>110.17</td>\n",
       "      <td>124.441284</td>\n",
       "    </tr>\n",
       "    <tr>\n",
       "      <th>5</th>\n",
       "      <td>134.70</td>\n",
       "      <td>140.969955</td>\n",
       "    </tr>\n",
       "    <tr>\n",
       "      <th>6</th>\n",
       "      <td>133.79</td>\n",
       "      <td>128.790741</td>\n",
       "    </tr>\n",
       "    <tr>\n",
       "      <th>7</th>\n",
       "      <td>133.16</td>\n",
       "      <td>128.288681</td>\n",
       "    </tr>\n",
       "    <tr>\n",
       "      <th>8</th>\n",
       "      <td>110.83</td>\n",
       "      <td>129.530609</td>\n",
       "    </tr>\n",
       "    <tr>\n",
       "      <th>9</th>\n",
       "      <td>148.35</td>\n",
       "      <td>131.681686</td>\n",
       "    </tr>\n",
       "    <tr>\n",
       "      <th>10</th>\n",
       "      <td>133.36</td>\n",
       "      <td>135.563370</td>\n",
       "    </tr>\n",
       "    <tr>\n",
       "      <th>11</th>\n",
       "      <td>149.40</td>\n",
       "      <td>130.082169</td>\n",
       "    </tr>\n",
       "    <tr>\n",
       "      <th>12</th>\n",
       "      <td>133.76</td>\n",
       "      <td>127.006058</td>\n",
       "    </tr>\n",
       "    <tr>\n",
       "      <th>13</th>\n",
       "      <td>132.76</td>\n",
       "      <td>127.752975</td>\n",
       "    </tr>\n",
       "    <tr>\n",
       "      <th>14</th>\n",
       "      <td>134.48</td>\n",
       "      <td>125.721504</td>\n",
       "    </tr>\n",
       "    <tr>\n",
       "      <th>15</th>\n",
       "      <td>133.69</td>\n",
       "      <td>133.344330</td>\n",
       "    </tr>\n",
       "    <tr>\n",
       "      <th>16</th>\n",
       "      <td>157.27</td>\n",
       "      <td>138.629807</td>\n",
       "    </tr>\n",
       "    <tr>\n",
       "      <th>17</th>\n",
       "      <td>133.78</td>\n",
       "      <td>130.920303</td>\n",
       "    </tr>\n",
       "    <tr>\n",
       "      <th>18</th>\n",
       "      <td>134.08</td>\n",
       "      <td>133.704575</td>\n",
       "    </tr>\n",
       "    <tr>\n",
       "      <th>19</th>\n",
       "      <td>132.79</td>\n",
       "      <td>133.470352</td>\n",
       "    </tr>\n",
       "  </tbody>\n",
       "</table>\n",
       "</div>"
      ],
      "text/plain": [
       "    Actual Output  Predicted Output\n",
       "0          108.81        124.697807\n",
       "1          159.21        131.463715\n",
       "2          110.79        129.301620\n",
       "3          109.12        124.895790\n",
       "4          110.17        124.441284\n",
       "5          134.70        140.969955\n",
       "6          133.79        128.790741\n",
       "7          133.16        128.288681\n",
       "8          110.83        129.530609\n",
       "9          148.35        131.681686\n",
       "10         133.36        135.563370\n",
       "11         149.40        130.082169\n",
       "12         133.76        127.006058\n",
       "13         132.76        127.752975\n",
       "14         134.48        125.721504\n",
       "15         133.69        133.344330\n",
       "16         157.27        138.629807\n",
       "17         133.78        130.920303\n",
       "18         134.08        133.704575\n",
       "19         132.79        133.470352"
      ]
     },
     "execution_count": 19,
     "metadata": {},
     "output_type": "execute_result"
    }
   ],
   "source": [
    "model_comparision = pd.DataFrame({'Actual Output':y_test.values.flatten(),'Predicted Output':y_pred})\n",
    "model_comparision.head(20)"
   ]
  },
  {
   "cell_type": "markdown",
   "id": "8d8d06ad",
   "metadata": {},
   "source": [
    "# Model Performance"
   ]
  },
  {
   "cell_type": "code",
   "execution_count": 21,
   "id": "fd4ddf37",
   "metadata": {},
   "outputs": [
    {
     "data": {
      "image/png": "[encoded data removed]",
      "text/plain": [
       "<Figure size 720x432 with 1 Axes>"
      ]
     },
     "metadata": {
      "needs_background": "light"
     },
     "output_type": "display_data"
    }
   ],
   "source": [
    "plt.figure(figsize=(10,6))\n",
    "plt.plot(model_training.history['loss'],label='Traning Loss')\n",
    "plt.plot(model_training.history['val_loss'],label='Validation Loss')\n",
    "plt.xlabel('Epochs')\n",
    "plt.ylabel('Loss')\n",
    "plt.title('Model Performance - Training loss vsValidation Loss',size=18)\n",
    "plt.legend()\n",
    "plt.show()"
   ]
  },
  {
   "cell_type": "code",
   "execution_count": 22,
   "id": "c5c9edd2",
   "metadata": {},
   "outputs": [
    {
     "data": {
      "image/png": "[encoded data removed]",
      "text/plain": [
       "<Figure size 720x432 with 1 Axes>"
      ]
     },
     "metadata": {
      "needs_background": "light"
     },
     "output_type": "display_data"
    }
   ],
   "source": [
    "plt.figure(figsize=(10,6))\n",
    "plt.plot(model_training.history['mean_squared_error'],label='Traning mean_squared_error')\n",
    "plt.plot(model_training.history['val_mean_squared_error'],label='Validation mean_squared_error')\n",
    "plt.xlabel('Epochs')\n",
    "plt.ylabel('mean_squared_error')\n",
    "plt.title('Model Performance - Training mean_squared_error vs Validation mean_squared_error',size=18)\n",
    "plt.legend()\n",
    "plt.show()"
   ]
  },
  {
   "cell_type": "markdown",
   "id": "57e2556a",
   "metadata": {},
   "source": [
    "# LET'S OPTIMIZE OUR MODEL PERFORMANCE"
   ]
  },
  {
   "cell_type": "markdown",
   "id": "81cda8c8",
   "metadata": {},
   "source": [
    "### 1. Using Scaled Input"
   ]
  },
  {
   "cell_type": "code",
   "execution_count": 24,
   "id": "07be5df1",
   "metadata": {},
   "outputs": [
    {
     "data": {
      "text/plain": [
       "array([[-1.4397781 , -0.82664395,  1.28143632],\n",
       "       [-1.44960109, -0.74864748,  1.30456402],\n",
       "       [-1.43472138, -0.68625031,  1.21908576],\n",
       "       ...,\n",
       "       [-1.38626659, -1.07623263,  1.47697056],\n",
       "       [-1.42042259, -0.99823616,  1.44159024],\n",
       "       [-1.43073409, -0.93583899,  1.33465179]])"
      ]
     },
     "execution_count": 24,
     "metadata": {},
     "output_type": "execute_result"
    }
   ],
   "source": [
    "scaler = StandardScaler()\n",
    "X_scaled = scaler.fit_transform(X)\n",
    "X_scaled"
   ]
  },
  {
   "cell_type": "markdown",
   "id": "0a00b29f",
   "metadata": {},
   "source": [
    "# Model Building"
   ]
  },
  {
   "cell_type": "markdown",
   "id": "02c8b7f3",
   "metadata": {},
   "source": [
    "### Build The Architecture"
   ]
  },
  {
   "cell_type": "code",
   "execution_count": 25,
   "id": "fc4732bf",
   "metadata": {},
   "outputs": [],
   "source": [
    "X_train,X_test,y_train,y_test = train_test_split(X_scaled,y,random_state=15,test_size=0.20)"
   ]
  },
  {
   "cell_type": "code",
   "execution_count": 26,
   "id": "284a247c",
   "metadata": {},
   "outputs": [
    {
     "data": {
      "text/plain": [
       "((12031, 3), (3008, 3), (12031, 1), (3008, 1))"
      ]
     },
     "execution_count": 26,
     "metadata": {},
     "output_type": "execute_result"
    }
   ],
   "source": [
    "X_train.shape,X_test.shape,y_train.shape,y_test.shape"
   ]
  },
  {
   "cell_type": "markdown",
   "id": "42416219",
   "metadata": {},
   "source": [
    "Since it is a regression problem the activation function here we use is linear activation function that is we dont have to pass any activation function while forming the architecture."
   ]
  },
  {
   "cell_type": "code",
   "execution_count": 27,
   "id": "6850b255",
   "metadata": {},
   "outputs": [],
   "source": [
    "model = Sequential()\n",
    "model.add(Dense(units=200))\n",
    "model.add(Dense(units=100))\n",
    "model.add(Dense(units=1))"
   ]
  },
  {
   "cell_type": "markdown",
   "id": "93a38e05",
   "metadata": {},
   "source": [
    "### Model Compiling"
   ]
  },
  {
   "cell_type": "code",
   "execution_count": 28,
   "id": "122ae8aa",
   "metadata": {},
   "outputs": [],
   "source": [
    "model.compile(optimizer='Adam',loss='mean_squared_error',metrics='mean_squared_error')"
   ]
  },
  {
   "cell_type": "markdown",
   "id": "ddc0c0de",
   "metadata": {},
   "source": [
    "# Model Training "
   ]
  },
  {
   "cell_type": "code",
   "execution_count": 29,
   "id": "2ba7bada",
   "metadata": {},
   "outputs": [
    {
     "name": "stdout",
     "output_type": "stream",
     "text": [
      "Epoch 1/10\n",
      "376/376 [==============================] - 2s 3ms/step - loss: 4103.1289 - mean_squared_error: 4103.1289 - val_loss: 223.3629 - val_mean_squared_error: 223.3629\n",
      "Epoch 2/10\n",
      "376/376 [==============================] - 1s 3ms/step - loss: 225.1228 - mean_squared_error: 225.1228 - val_loss: 223.5067 - val_mean_squared_error: 223.5067\n",
      "Epoch 3/10\n",
      "376/376 [==============================] - 1s 3ms/step - loss: 226.1539 - mean_squared_error: 226.1539 - val_loss: 224.8096 - val_mean_squared_error: 224.8096\n",
      "Epoch 4/10\n",
      "376/376 [==============================] - 1s 3ms/step - loss: 226.1784 - mean_squared_error: 226.1784 - val_loss: 222.2188 - val_mean_squared_error: 222.2188\n",
      "Epoch 5/10\n",
      "376/376 [==============================] - 1s 3ms/step - loss: 227.3211 - mean_squared_error: 227.3211 - val_loss: 235.2581 - val_mean_squared_error: 235.2581\n",
      "Epoch 6/10\n",
      "376/376 [==============================] - 1s 3ms/step - loss: 226.5746 - mean_squared_error: 226.5746 - val_loss: 229.2625 - val_mean_squared_error: 229.2625\n",
      "Epoch 7/10\n",
      "376/376 [==============================] - 1s 3ms/step - loss: 226.8684 - mean_squared_error: 226.8684 - val_loss: 221.1778 - val_mean_squared_error: 221.1778\n",
      "Epoch 8/10\n",
      "376/376 [==============================] - 1s 3ms/step - loss: 226.9080 - mean_squared_error: 226.9080 - val_loss: 231.8116 - val_mean_squared_error: 231.8116\n",
      "Epoch 9/10\n",
      "376/376 [==============================] - 1s 3ms/step - loss: 228.3283 - mean_squared_error: 228.3283 - val_loss: 221.3009 - val_mean_squared_error: 221.3009\n",
      "Epoch 10/10\n",
      "376/376 [==============================] - 1s 2ms/step - loss: 226.3748 - mean_squared_error: 226.3748 - val_loss: 225.7155 - val_mean_squared_error: 225.7155\n"
     ]
    },
    {
     "data": {
      "text/plain": [
       "<keras.callbacks.History at 0x14d0c95fd30>"
      ]
     },
     "execution_count": 29,
     "metadata": {},
     "output_type": "execute_result"
    }
   ],
   "source": [
    "model_training = model.fit(x=X_train,y=y_train,batch_size=None,epochs=10,validation_data=(X_test,y_test))\n",
    "model_training"
   ]
  },
  {
   "cell_type": "markdown",
   "id": "9acb5b3e",
   "metadata": {},
   "source": [
    "# Model Prediction"
   ]
  },
  {
   "cell_type": "code",
   "execution_count": 30,
   "id": "2749b991",
   "metadata": {},
   "outputs": [
    {
     "name": "stdout",
     "output_type": "stream",
     "text": [
      "94/94 [==============================] - 0s 1ms/step\n"
     ]
    },
    {
     "data": {
      "text/plain": [
       "array([127.43592, 137.1432 , 131.4441 , ..., 133.8993 , 137.66699,\n",
       "       136.1092 ], dtype=float32)"
      ]
     },
     "execution_count": 30,
     "metadata": {},
     "output_type": "execute_result"
    }
   ],
   "source": [
    "y_pred = model.predict(X_test).flatten()\n",
    "y_pred"
   ]
  },
  {
   "cell_type": "markdown",
   "id": "2390f9a8",
   "metadata": {},
   "source": [
    "# Model Evaluation"
   ]
  },
  {
   "cell_type": "code",
   "execution_count": 31,
   "id": "3322b376",
   "metadata": {},
   "outputs": [
    {
     "name": "stdout",
     "output_type": "stream",
     "text": [
      "94/94 [==============================] - 0s 2ms/step - loss: 225.7155 - mean_squared_error: 225.7155\n",
      "Model Loss          : 225.7155\n",
      "Mean Squared Error  : 225.7155\n"
     ]
    }
   ],
   "source": [
    "model_results = model.evaluate(x=X_test,y=y_test)\n",
    "print('Model Loss          :',round(model_results[0],4))\n",
    "print('Mean Squared Error  :',round(model_results[1],4))\n"
   ]
  },
  {
   "cell_type": "code",
   "execution_count": 32,
   "id": "1e048e0b",
   "metadata": {},
   "outputs": [
    {
     "data": {
      "text/html": [
       "<div>\n",
       "<style scoped>\n",
       "    .dataframe tbody tr th:only-of-type {\n",
       "        vertical-align: middle;\n",
       "    }\n",
       "\n",
       "    .dataframe tbody tr th {\n",
       "        vertical-align: top;\n",
       "    }\n",
       "\n",
       "    .dataframe thead th {\n",
       "        text-align: right;\n",
       "    }\n",
       "</style>\n",
       "<table border=\"1\" class=\"dataframe\">\n",
       "  <thead>\n",
       "    <tr style=\"text-align: right;\">\n",
       "      <th></th>\n",
       "      <th>Actual Output</th>\n",
       "      <th>Predicted Output</th>\n",
       "    </tr>\n",
       "  </thead>\n",
       "  <tbody>\n",
       "    <tr>\n",
       "      <th>0</th>\n",
       "      <td>108.81</td>\n",
       "      <td>127.435921</td>\n",
       "    </tr>\n",
       "    <tr>\n",
       "      <th>1</th>\n",
       "      <td>159.21</td>\n",
       "      <td>137.143204</td>\n",
       "    </tr>\n",
       "    <tr>\n",
       "      <th>2</th>\n",
       "      <td>110.79</td>\n",
       "      <td>131.444107</td>\n",
       "    </tr>\n",
       "    <tr>\n",
       "      <th>3</th>\n",
       "      <td>109.12</td>\n",
       "      <td>126.219650</td>\n",
       "    </tr>\n",
       "    <tr>\n",
       "      <th>4</th>\n",
       "      <td>110.17</td>\n",
       "      <td>126.048286</td>\n",
       "    </tr>\n",
       "    <tr>\n",
       "      <th>5</th>\n",
       "      <td>134.70</td>\n",
       "      <td>148.236862</td>\n",
       "    </tr>\n",
       "    <tr>\n",
       "      <th>6</th>\n",
       "      <td>133.79</td>\n",
       "      <td>130.277603</td>\n",
       "    </tr>\n",
       "    <tr>\n",
       "      <th>7</th>\n",
       "      <td>133.16</td>\n",
       "      <td>131.254456</td>\n",
       "    </tr>\n",
       "    <tr>\n",
       "      <th>8</th>\n",
       "      <td>110.83</td>\n",
       "      <td>132.383270</td>\n",
       "    </tr>\n",
       "    <tr>\n",
       "      <th>9</th>\n",
       "      <td>148.35</td>\n",
       "      <td>134.383072</td>\n",
       "    </tr>\n",
       "    <tr>\n",
       "      <th>10</th>\n",
       "      <td>133.36</td>\n",
       "      <td>142.260269</td>\n",
       "    </tr>\n",
       "    <tr>\n",
       "      <th>11</th>\n",
       "      <td>149.40</td>\n",
       "      <td>132.851273</td>\n",
       "    </tr>\n",
       "    <tr>\n",
       "      <th>12</th>\n",
       "      <td>133.76</td>\n",
       "      <td>128.583313</td>\n",
       "    </tr>\n",
       "    <tr>\n",
       "      <th>13</th>\n",
       "      <td>132.76</td>\n",
       "      <td>130.839249</td>\n",
       "    </tr>\n",
       "    <tr>\n",
       "      <th>14</th>\n",
       "      <td>134.48</td>\n",
       "      <td>127.867241</td>\n",
       "    </tr>\n",
       "    <tr>\n",
       "      <th>15</th>\n",
       "      <td>133.69</td>\n",
       "      <td>139.961044</td>\n",
       "    </tr>\n",
       "    <tr>\n",
       "      <th>16</th>\n",
       "      <td>157.27</td>\n",
       "      <td>146.633469</td>\n",
       "    </tr>\n",
       "    <tr>\n",
       "      <th>17</th>\n",
       "      <td>133.78</td>\n",
       "      <td>136.037994</td>\n",
       "    </tr>\n",
       "    <tr>\n",
       "      <th>18</th>\n",
       "      <td>134.08</td>\n",
       "      <td>137.192688</td>\n",
       "    </tr>\n",
       "    <tr>\n",
       "      <th>19</th>\n",
       "      <td>132.79</td>\n",
       "      <td>137.300323</td>\n",
       "    </tr>\n",
       "  </tbody>\n",
       "</table>\n",
       "</div>"
      ],
      "text/plain": [
       "    Actual Output  Predicted Output\n",
       "0          108.81        127.435921\n",
       "1          159.21        137.143204\n",
       "2          110.79        131.444107\n",
       "3          109.12        126.219650\n",
       "4          110.17        126.048286\n",
       "5          134.70        148.236862\n",
       "6          133.79        130.277603\n",
       "7          133.16        131.254456\n",
       "8          110.83        132.383270\n",
       "9          148.35        134.383072\n",
       "10         133.36        142.260269\n",
       "11         149.40        132.851273\n",
       "12         133.76        128.583313\n",
       "13         132.76        130.839249\n",
       "14         134.48        127.867241\n",
       "15         133.69        139.961044\n",
       "16         157.27        146.633469\n",
       "17         133.78        136.037994\n",
       "18         134.08        137.192688\n",
       "19         132.79        137.300323"
      ]
     },
     "execution_count": 32,
     "metadata": {},
     "output_type": "execute_result"
    }
   ],
   "source": [
    "model_comparision = pd.DataFrame({'Actual Output':y_test.values.flatten(),'Predicted Output':y_pred})\n",
    "model_comparision.head(20)"
   ]
  },
  {
   "cell_type": "markdown",
   "id": "aef72b7a",
   "metadata": {},
   "source": [
    "# Model Performance"
   ]
  },
  {
   "cell_type": "code",
   "execution_count": 33,
   "id": "9ed10353",
   "metadata": {},
   "outputs": [
    {
     "data": {
      "image/png": "[encoded data removed]",
      "text/plain": [
       "<Figure size 720x432 with 1 Axes>"
      ]
     },
     "metadata": {
      "needs_background": "light"
     },
     "output_type": "display_data"
    }
   ],
   "source": [
    "plt.figure(figsize=(10,6))\n",
    "plt.plot(model_training.history['loss'],label='Traning Loss')\n",
    "plt.plot(model_training.history['val_loss'],label='Validation Loss')\n",
    "plt.xlabel('Epochs')\n",
    "plt.ylabel('Loss')\n",
    "plt.title('Model Performance - Training loss vsValidation Loss',size=18)\n",
    "plt.legend()\n",
    "plt.show()"
   ]
  },
  {
   "cell_type": "code",
   "execution_count": 34,
   "id": "5cd8c335",
   "metadata": {},
   "outputs": [
    {
     "data": {
      "image/png": "[encoded data removed]",
      "text/plain": [
       "<Figure size 720x432 with 1 Axes>"
      ]
     },
     "metadata": {
      "needs_background": "light"
     },
     "output_type": "display_data"
    }
   ],
   "source": [
    "plt.figure(figsize=(10,6))\n",
    "plt.plot(model_training.history['mean_squared_error'],label='Traning mean_squared_error')\n",
    "plt.plot(model_training.history['val_mean_squared_error'],label='Validation mean_squared_error')\n",
    "plt.xlabel('Epochs')\n",
    "plt.ylabel('mean_squared_error')\n",
    "plt.title('Model Performance - Training mean_squared_error vs Validation mean_squared_error',size=18)\n",
    "plt.legend()\n",
    "plt.show()"
   ]
  },
  {
   "cell_type": "markdown",
   "id": "5ee93bc6",
   "metadata": {},
   "source": [
    "### 2. Using Dropout Layer"
   ]
  },
  {
   "cell_type": "markdown",
   "id": "59eca0fa",
   "metadata": {},
   "source": [
    "# Model Building"
   ]
  },
  {
   "cell_type": "markdown",
   "id": "f2988f5c",
   "metadata": {},
   "source": [
    "### Build The Architecture"
   ]
  },
  {
   "cell_type": "code",
   "execution_count": 35,
   "id": "0f167bed",
   "metadata": {},
   "outputs": [],
   "source": [
    "X_train,X_test,y_train,y_test = train_test_split(X_scaled,y,random_state=15,test_size=0.20)"
   ]
  },
  {
   "cell_type": "code",
   "execution_count": 36,
   "id": "4fc95437",
   "metadata": {},
   "outputs": [
    {
     "data": {
      "text/plain": [
       "((12031, 3), (3008, 3), (12031, 1), (3008, 1))"
      ]
     },
     "execution_count": 36,
     "metadata": {},
     "output_type": "execute_result"
    }
   ],
   "source": [
    "X_train.shape,X_test.shape,y_train.shape,y_test.shape"
   ]
  },
  {
   "cell_type": "markdown",
   "id": "eeb8dfe1",
   "metadata": {},
   "source": [
    "Since it is a regression problem the activation function here we use is linear activation function that is we dont have to pass any activation function while forming the architecture."
   ]
  },
  {
   "cell_type": "code",
   "execution_count": 37,
   "id": "0de54c1c",
   "metadata": {},
   "outputs": [],
   "source": [
    "model = Sequential()\n",
    "model.add(Dense(units=200))\n",
    "model.add(Dropout(rate=0.20))\n",
    "model.add(Dense(units=100))\n",
    "model.add(Dropout(rate=0.20))\n",
    "model.add(Dense(units=1))"
   ]
  },
  {
   "cell_type": "markdown",
   "id": "547dcd2c",
   "metadata": {},
   "source": [
    "### Model Compiling"
   ]
  },
  {
   "cell_type": "code",
   "execution_count": 38,
   "id": "d8f93aaf",
   "metadata": {},
   "outputs": [],
   "source": [
    "model.compile(optimizer='Adam',loss='mean_squared_error',metrics='mean_squared_error')"
   ]
  },
  {
   "cell_type": "markdown",
   "id": "d19cb155",
   "metadata": {},
   "source": [
    "# Model Training "
   ]
  },
  {
   "cell_type": "code",
   "execution_count": 39,
   "id": "4d16e60e",
   "metadata": {},
   "outputs": [
    {
     "name": "stdout",
     "output_type": "stream",
     "text": [
      "Epoch 1/10\n",
      "376/376 [==============================] - 2s 3ms/step - loss: 4259.2524 - mean_squared_error: 4259.2524 - val_loss: 225.0587 - val_mean_squared_error: 225.0587\n",
      "Epoch 2/10\n",
      "376/376 [==============================] - 1s 3ms/step - loss: 307.1784 - mean_squared_error: 307.1784 - val_loss: 224.0217 - val_mean_squared_error: 224.0217\n",
      "Epoch 3/10\n",
      "376/376 [==============================] - 1s 3ms/step - loss: 304.0193 - mean_squared_error: 304.0193 - val_loss: 227.0546 - val_mean_squared_error: 227.0546\n",
      "Epoch 4/10\n",
      "376/376 [==============================] - 1s 3ms/step - loss: 304.0760 - mean_squared_error: 304.0760 - val_loss: 227.6850 - val_mean_squared_error: 227.6850\n",
      "Epoch 5/10\n",
      "376/376 [==============================] - 1s 3ms/step - loss: 298.7823 - mean_squared_error: 298.7823 - val_loss: 249.4355 - val_mean_squared_error: 249.4355\n",
      "Epoch 6/10\n",
      "376/376 [==============================] - 1s 3ms/step - loss: 298.0718 - mean_squared_error: 298.0718 - val_loss: 220.7610 - val_mean_squared_error: 220.7610\n",
      "Epoch 7/10\n",
      "376/376 [==============================] - 1s 3ms/step - loss: 301.7185 - mean_squared_error: 301.7185 - val_loss: 223.5045 - val_mean_squared_error: 223.5045\n",
      "Epoch 8/10\n",
      "376/376 [==============================] - 1s 3ms/step - loss: 299.0959 - mean_squared_error: 299.0959 - val_loss: 224.9175 - val_mean_squared_error: 224.9175\n",
      "Epoch 9/10\n",
      "376/376 [==============================] - 1s 3ms/step - loss: 294.8649 - mean_squared_error: 294.8649 - val_loss: 220.5960 - val_mean_squared_error: 220.5960\n",
      "Epoch 10/10\n",
      "376/376 [==============================] - 1s 3ms/step - loss: 298.0509 - mean_squared_error: 298.0509 - val_loss: 223.8587 - val_mean_squared_error: 223.8587\n"
     ]
    },
    {
     "data": {
      "text/plain": [
       "<keras.callbacks.History at 0x14d0cad0970>"
      ]
     },
     "execution_count": 39,
     "metadata": {},
     "output_type": "execute_result"
    }
   ],
   "source": [
    "model_training = model.fit(x=X_train,y=y_train,batch_size=None,epochs=10,validation_data=(X_test,y_test))\n",
    "model_training"
   ]
  },
  {
   "cell_type": "markdown",
   "id": "a5ac5b68",
   "metadata": {},
   "source": [
    "# Model Prediction"
   ]
  },
  {
   "cell_type": "code",
   "execution_count": 40,
   "id": "93613227",
   "metadata": {},
   "outputs": [
    {
     "name": "stdout",
     "output_type": "stream",
     "text": [
      "94/94 [==============================] - 0s 2ms/step\n"
     ]
    },
    {
     "data": {
      "text/plain": [
       "array([127.57345, 133.12015, 135.07935, ..., 132.24261, 132.94124,\n",
       "       145.6688 ], dtype=float32)"
      ]
     },
     "execution_count": 40,
     "metadata": {},
     "output_type": "execute_result"
    }
   ],
   "source": [
    "y_pred = model.predict(X_test).flatten()\n",
    "y_pred"
   ]
  },
  {
   "cell_type": "markdown",
   "id": "fa4c926d",
   "metadata": {},
   "source": [
    "# Model Evaluation"
   ]
  },
  {
   "cell_type": "code",
   "execution_count": 41,
   "id": "9e4a23ca",
   "metadata": {},
   "outputs": [
    {
     "name": "stdout",
     "output_type": "stream",
     "text": [
      "94/94 [==============================] - 0s 2ms/step - loss: 223.8587 - mean_squared_error: 223.8587\n",
      "Model Loss          : 223.8587\n",
      "Mean Squared Error  : 223.8587\n"
     ]
    }
   ],
   "source": [
    "model_results = model.evaluate(x=X_test,y=y_test)\n",
    "print('Model Loss          :',round(model_results[0],4))\n",
    "print('Mean Squared Error  :',round(model_results[1],4))\n"
   ]
  },
  {
   "cell_type": "code",
   "execution_count": 42,
   "id": "6ee8fe43",
   "metadata": {},
   "outputs": [
    {
     "data": {
      "text/html": [
       "<div>\n",
       "<style scoped>\n",
       "    .dataframe tbody tr th:only-of-type {\n",
       "        vertical-align: middle;\n",
       "    }\n",
       "\n",
       "    .dataframe tbody tr th {\n",
       "        vertical-align: top;\n",
       "    }\n",
       "\n",
       "    .dataframe thead th {\n",
       "        text-align: right;\n",
       "    }\n",
       "</style>\n",
       "<table border=\"1\" class=\"dataframe\">\n",
       "  <thead>\n",
       "    <tr style=\"text-align: right;\">\n",
       "      <th></th>\n",
       "      <th>Actual Output</th>\n",
       "      <th>Predicted Output</th>\n",
       "    </tr>\n",
       "  </thead>\n",
       "  <tbody>\n",
       "    <tr>\n",
       "      <th>0</th>\n",
       "      <td>108.81</td>\n",
       "      <td>127.573448</td>\n",
       "    </tr>\n",
       "    <tr>\n",
       "      <th>1</th>\n",
       "      <td>159.21</td>\n",
       "      <td>133.120148</td>\n",
       "    </tr>\n",
       "    <tr>\n",
       "      <th>2</th>\n",
       "      <td>110.79</td>\n",
       "      <td>135.079346</td>\n",
       "    </tr>\n",
       "    <tr>\n",
       "      <th>3</th>\n",
       "      <td>109.12</td>\n",
       "      <td>129.631195</td>\n",
       "    </tr>\n",
       "    <tr>\n",
       "      <th>4</th>\n",
       "      <td>110.17</td>\n",
       "      <td>128.586929</td>\n",
       "    </tr>\n",
       "    <tr>\n",
       "      <th>5</th>\n",
       "      <td>134.70</td>\n",
       "      <td>148.467865</td>\n",
       "    </tr>\n",
       "    <tr>\n",
       "      <th>6</th>\n",
       "      <td>133.79</td>\n",
       "      <td>133.369354</td>\n",
       "    </tr>\n",
       "    <tr>\n",
       "      <th>7</th>\n",
       "      <td>133.16</td>\n",
       "      <td>129.418549</td>\n",
       "    </tr>\n",
       "    <tr>\n",
       "      <th>8</th>\n",
       "      <td>110.83</td>\n",
       "      <td>131.853027</td>\n",
       "    </tr>\n",
       "    <tr>\n",
       "      <th>9</th>\n",
       "      <td>148.35</td>\n",
       "      <td>135.427795</td>\n",
       "    </tr>\n",
       "    <tr>\n",
       "      <th>10</th>\n",
       "      <td>133.36</td>\n",
       "      <td>140.249451</td>\n",
       "    </tr>\n",
       "    <tr>\n",
       "      <th>11</th>\n",
       "      <td>149.40</td>\n",
       "      <td>133.173294</td>\n",
       "    </tr>\n",
       "    <tr>\n",
       "      <th>12</th>\n",
       "      <td>133.76</td>\n",
       "      <td>130.893158</td>\n",
       "    </tr>\n",
       "    <tr>\n",
       "      <th>13</th>\n",
       "      <td>132.76</td>\n",
       "      <td>129.237778</td>\n",
       "    </tr>\n",
       "    <tr>\n",
       "      <th>14</th>\n",
       "      <td>134.48</td>\n",
       "      <td>128.519104</td>\n",
       "    </tr>\n",
       "    <tr>\n",
       "      <th>15</th>\n",
       "      <td>133.69</td>\n",
       "      <td>134.543472</td>\n",
       "    </tr>\n",
       "    <tr>\n",
       "      <th>16</th>\n",
       "      <td>157.27</td>\n",
       "      <td>138.531128</td>\n",
       "    </tr>\n",
       "    <tr>\n",
       "      <th>17</th>\n",
       "      <td>133.78</td>\n",
       "      <td>132.441666</td>\n",
       "    </tr>\n",
       "    <tr>\n",
       "      <th>18</th>\n",
       "      <td>134.08</td>\n",
       "      <td>139.049576</td>\n",
       "    </tr>\n",
       "    <tr>\n",
       "      <th>19</th>\n",
       "      <td>132.79</td>\n",
       "      <td>136.785828</td>\n",
       "    </tr>\n",
       "  </tbody>\n",
       "</table>\n",
       "</div>"
      ],
      "text/plain": [
       "    Actual Output  Predicted Output\n",
       "0          108.81        127.573448\n",
       "1          159.21        133.120148\n",
       "2          110.79        135.079346\n",
       "3          109.12        129.631195\n",
       "4          110.17        128.586929\n",
       "5          134.70        148.467865\n",
       "6          133.79        133.369354\n",
       "7          133.16        129.418549\n",
       "8          110.83        131.853027\n",
       "9          148.35        135.427795\n",
       "10         133.36        140.249451\n",
       "11         149.40        133.173294\n",
       "12         133.76        130.893158\n",
       "13         132.76        129.237778\n",
       "14         134.48        128.519104\n",
       "15         133.69        134.543472\n",
       "16         157.27        138.531128\n",
       "17         133.78        132.441666\n",
       "18         134.08        139.049576\n",
       "19         132.79        136.785828"
      ]
     },
     "execution_count": 42,
     "metadata": {},
     "output_type": "execute_result"
    }
   ],
   "source": [
    "model_comparision = pd.DataFrame({'Actual Output':y_test.values.flatten(),'Predicted Output':y_pred})\n",
    "model_comparision.head(20)"
   ]
  },
  {
   "cell_type": "markdown",
   "id": "f9133345",
   "metadata": {},
   "source": [
    "# Model Performance"
   ]
  },
  {
   "cell_type": "code",
   "execution_count": 43,
   "id": "45c86b91",
   "metadata": {},
   "outputs": [
    {
     "data": {
      "image/png": "[encoded data removed]",
      "text/plain": [
       "<Figure size 720x432 with 1 Axes>"
      ]
     },
     "metadata": {
      "needs_background": "light"
     },
     "output_type": "display_data"
    }
   ],
   "source": [
    "plt.figure(figsize=(10,6))\n",
    "plt.plot(model_training.history['loss'],label='Traning Loss')\n",
    "plt.plot(model_training.history['val_loss'],label='Validation Loss')\n",
    "plt.xlabel('Epochs')\n",
    "plt.ylabel('Loss')\n",
    "plt.title('Model Performance - Training loss vsValidation Loss',size=18)\n",
    "plt.legend()\n",
    "plt.show()"
   ]
  },
  {
   "cell_type": "code",
   "execution_count": 40,
   "id": "e287f445",
   "metadata": {},
   "outputs": [
    {
     "data": {
      "image/png": "[encoded data removed]",
      "text/plain": [
       "<Figure size 720x432 with 1 Axes>"
      ]
     },
     "metadata": {
      "needs_background": "light"
     },
     "output_type": "display_data"
    }
   ],
   "source": [
    "plt.figure(figsize=(10,6))\n",
    "plt.plot(model_training.history['mean_squared_error'],label='Traning mean_squared_error')\n",
    "plt.plot(model_training.history['val_mean_squared_error'],label='Validation mean_squared_error')\n",
    "plt.xlabel('Epochs')\n",
    "plt.ylabel('mean_squared_error')\n",
    "plt.title('Model Performance - Training mean_squared_error vs Validation mean_squared_error',size=18)\n",
    "plt.legend()\n",
    "plt.show()"
   ]
  },
  {
   "cell_type": "markdown",
   "id": "9ec39fd0",
   "metadata": {},
   "source": [
    "# ===========================THE END=========================="
   ]
  }
 ],
 "metadata": {
  "kernelspec": {
   "display_name": "Python 3 (ipykernel)",
   "language": "python",
   "name": "python3"
  },
  "language_info": {
   "codemirror_mode": {
    "name": "ipython",
    "version": 3
   },
   "file_extension": ".py",
   "mimetype": "text/x-python",
   "name": "python",
   "nbconvert_exporter": "python",
   "pygments_lexer": "ipython3",
   "version": "3.9.7"
  }
 },
 "nbformat": 4,
 "nbformat_minor": 5
}
